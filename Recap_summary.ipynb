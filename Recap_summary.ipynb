{
 "cells": [
  {
   "cell_type": "markdown",
   "metadata": {
    "ExecuteTime": {
     "end_time": "2020-12-08T10:24:07.114788Z",
     "start_time": "2020-12-08T10:24:07.110282Z"
    }
   },
   "source": [
    "<font size = '5'><b>RECAP</b><font>"
   ]
  },
  {
   "cell_type": "markdown",
   "metadata": {},
   "source": [
    "# Zip() "
   ]
  },
  {
   "cell_type": "markdown",
   "metadata": {},
   "source": [
    "First you create your Zip object:"
   ]
  },
  {
   "cell_type": "code",
   "execution_count": 2,
   "metadata": {
    "ExecuteTime": {
     "end_time": "2020-12-08T10:26:26.400727Z",
     "start_time": "2020-12-08T10:26:26.397161Z"
    }
   },
   "outputs": [
    {
     "name": "stdout",
     "output_type": "stream",
     "text": [
      "<zip object at 0x7fc6533de308>\n"
     ]
    }
   ],
   "source": [
    "players = ['Michael Jordan', 'Kobe Bryant', 'Lebron James', 'Paul George', 'Kevin Durant', 'Tim Duncan']\n",
    "positions = ['SG', 'SG', 'SF', 'SF', 'SF', 'PF']\n",
    "\n",
    "z = zip(players, positions)\n",
    "\n",
    "print(z)"
   ]
  },
  {
   "cell_type": "markdown",
   "metadata": {},
   "source": [
    "Now the Zipped object needs to be converted into a list and you can print it at the same time:"
   ]
  },
  {
   "cell_type": "code",
   "execution_count": 3,
   "metadata": {
    "ExecuteTime": {
     "end_time": "2020-12-08T10:27:14.574373Z",
     "start_time": "2020-12-08T10:27:14.571482Z"
    }
   },
   "outputs": [
    {
     "name": "stdout",
     "output_type": "stream",
     "text": [
      "[('Michael Jordan', 'SG'), ('Kobe Bryant', 'SG'), ('Lebron James', 'SF'), ('Paul George', 'SF'), ('Kevin Durant', 'SF'), ('Tim Duncan', 'PF')]\n"
     ]
    }
   ],
   "source": [
    "print(list(z))"
   ]
  },
  {
   "cell_type": "markdown",
   "metadata": {},
   "source": [
    "# Defining a function"
   ]
  },
  {
   "cell_type": "code",
   "execution_count": 4,
   "metadata": {
    "ExecuteTime": {
     "end_time": "2020-12-08T10:29:28.962828Z",
     "start_time": "2020-12-08T10:29:28.959756Z"
    }
   },
   "outputs": [],
   "source": [
    "def product(val1, val2):\n",
    "    \n",
    "# we will raise val1 to the power of val2 and viceversa:\n",
    "\n",
    "    new_val1 = val1 ** val2\n",
    "    new_val2 = val2 ** val1\n",
    "    \n",
    "    new_tuple = (new_val1, new_val2)\n",
    "    \n",
    "    return new_tuple"
   ]
  },
  {
   "cell_type": "code",
   "execution_count": 5,
   "metadata": {
    "ExecuteTime": {
     "end_time": "2020-12-08T10:29:49.908337Z",
     "start_time": "2020-12-08T10:29:49.905124Z"
    }
   },
   "outputs": [
    {
     "name": "stdout",
     "output_type": "stream",
     "text": [
      "(81, 64)\n"
     ]
    }
   ],
   "source": [
    "print(product(3, 4))"
   ]
  },
  {
   "cell_type": "markdown",
   "metadata": {},
   "source": [
    "# List Comprehensions"
   ]
  },
  {
   "cell_type": "markdown",
   "metadata": {},
   "source": [
    "Basic form:\n",
    "\n",
    "[output expression for iterator variable in iterable]\n",
    "\n",
    "Advanced form:\n",
    "\n",
    "[output expression + conditional on output for iterator variable in iterable + conditional on iterable]"
   ]
  },
  {
   "cell_type": "markdown",
   "metadata": {},
   "source": [
    "# Creating a dictionary from a Zip file"
   ]
  },
  {
   "cell_type": "code",
   "execution_count": 9,
   "metadata": {
    "ExecuteTime": {
     "end_time": "2020-12-08T10:43:07.663139Z",
     "start_time": "2020-12-08T10:43:07.659930Z"
    }
   },
   "outputs": [],
   "source": [
    "players = ['Michael Jordan', 'Kobe Bryant', 'Lebron James', 'Paul George', 'Kevin Durant', 'Tim Duncan']\n",
    "positions = ['SG', 'SG', 'SF', 'SF', 'SF', 'PF']\n",
    "\n",
    "z = zip(players, positions)\n",
    "z_list = list(z)"
   ]
  },
  {
   "cell_type": "code",
   "execution_count": 12,
   "metadata": {
    "ExecuteTime": {
     "end_time": "2020-12-08T10:43:40.682732Z",
     "start_time": "2020-12-08T10:43:40.679176Z"
    }
   },
   "outputs": [
    {
     "name": "stdout",
     "output_type": "stream",
     "text": [
      "{'Michael Jordan': 'SG', 'Kobe Bryant': 'SG', 'Lebron James': 'SF', 'Paul George': 'SF', 'Kevin Durant': 'SF', 'Tim Duncan': 'PF'}\n"
     ]
    }
   ],
   "source": [
    "players_dict = dict(z_list)\n",
    "print(players_dict)"
   ]
  },
  {
   "cell_type": "markdown",
   "metadata": {},
   "source": [
    "# Creating a function from the previous workflow (4)"
   ]
  },
  {
   "cell_type": "code",
   "execution_count": 14,
   "metadata": {
    "ExecuteTime": {
     "end_time": "2020-12-08T10:49:20.543741Z",
     "start_time": "2020-12-08T10:49:20.539540Z"
    },
    "scrolled": true
   },
   "outputs": [
    {
     "name": "stdout",
     "output_type": "stream",
     "text": [
      "{'Michael Jordan': 'SG', 'Kobe Bryant': 'SG', 'Lebron James': 'SF', 'Paul George': 'SF', 'Kevin Durant': 'SF', 'Tim Duncan': 'PF'}\n"
     ]
    }
   ],
   "source": [
    "players = ['Michael Jordan', 'Kobe Bryant', 'Lebron James', 'Paul George', 'Kevin Durant', 'Tim Duncan']\n",
    "positions = ['SG', 'SG', 'SF', 'SF', 'SF', 'PF']\n",
    "\n",
    "def lists2dict(list1, list2):\n",
    "    \n",
    "    zipped_lists = zip(list1, list2)\n",
    "    new_dict = dict(zipped_lists)\n",
    "    return new_dict\n",
    "\n",
    "new_dict_func = lists2dict(players, positions)\n",
    "\n",
    "print(new_dict_func)"
   ]
  },
  {
   "cell_type": "markdown",
   "metadata": {},
   "source": [
    "# Building a Generator Function"
   ]
  },
  {
   "cell_type": "code",
   "execution_count": 15,
   "metadata": {
    "ExecuteTime": {
     "end_time": "2020-12-08T15:12:45.826492Z",
     "start_time": "2020-12-08T15:12:45.813472Z"
    }
   },
   "outputs": [],
   "source": [
    "# Let's define a function that generates values from 0 to \"n\"\n",
    "\n",
    "def num_sequence(n):\n",
    "    i = 0\n",
    "    while i < n:\n",
    "        yield i\n",
    "        i += 1"
   ]
  },
  {
   "cell_type": "code",
   "execution_count": 17,
   "metadata": {
    "ExecuteTime": {
     "end_time": "2020-12-08T15:13:04.809844Z",
     "start_time": "2020-12-08T15:13:04.806785Z"
    }
   },
   "outputs": [
    {
     "name": "stdout",
     "output_type": "stream",
     "text": [
      "<generator object num_sequence at 0x7fc654b5f620>\n"
     ]
    }
   ],
   "source": [
    "print(num_sequence(10))\n"
   ]
  },
  {
   "cell_type": "code",
   "execution_count": null,
   "metadata": {},
   "outputs": [],
   "source": []
  }
 ],
 "metadata": {
  "kernelspec": {
   "display_name": "learn-env",
   "language": "python",
   "name": "learn-env"
  },
  "language_info": {
   "codemirror_mode": {
    "name": "ipython",
    "version": 3
   },
   "file_extension": ".py",
   "mimetype": "text/x-python",
   "name": "python",
   "nbconvert_exporter": "python",
   "pygments_lexer": "ipython3",
   "version": "3.6.9"
  },
  "toc": {
   "base_numbering": 1,
   "nav_menu": {},
   "number_sections": true,
   "sideBar": true,
   "skip_h1_title": false,
   "title_cell": "Table of Contents",
   "title_sidebar": "Contents",
   "toc_cell": false,
   "toc_position": {},
   "toc_section_display": true,
   "toc_window_display": false
  },
  "varInspector": {
   "cols": {
    "lenName": 16,
    "lenType": 16,
    "lenVar": 40
   },
   "kernels_config": {
    "python": {
     "delete_cmd_postfix": "",
     "delete_cmd_prefix": "del ",
     "library": "var_list.py",
     "varRefreshCmd": "print(var_dic_list())"
    },
    "r": {
     "delete_cmd_postfix": ") ",
     "delete_cmd_prefix": "rm(",
     "library": "var_list.r",
     "varRefreshCmd": "cat(var_dic_list()) "
    }
   },
   "types_to_exclude": [
    "module",
    "function",
    "builtin_function_or_method",
    "instance",
    "_Feature"
   ],
   "window_display": false
  }
 },
 "nbformat": 4,
 "nbformat_minor": 4
}
